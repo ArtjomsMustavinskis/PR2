{
 "cells": [
  {
   "cell_type": "markdown",
   "id": "b0df4953",
   "metadata": {},
   "source": [
    "# Pārraudzītā mašīnmācīšanās — Mobilie tālruņi\n",
    "**Datu kopa:** `mobile_phones_2000.csv`\n",
    "\n",
    "Šis notebook demonstrē pilnu klasifikācijas caurplūsmu (supervised learning), lai paredzētu mobilā tālruņa ražotāju (**Brand**) pēc tā tehniskajām specifikācijām."
   ]
  },
  {
   "cell_type": "markdown",
   "id": "2cc28a40",
   "metadata": {},
   "source": [
    "## 1 — Importi un iestatījumi"
   ]
  },
  {
   "cell_type": "code",
   "execution_count": null,
   "id": "2d3a751b",
   "metadata": {},
   "outputs": [],
   "source": [
    "\n",
    "import pandas as pd\n",
    "import numpy as np\n",
    "from sklearn.model_selection import train_test_split, GridSearchCV, cross_val_score\n",
    "from sklearn.preprocessing import StandardScaler, OneHotEncoder\n",
    "from sklearn.compose import ColumnTransformer\n",
    "from sklearn.pipeline import Pipeline\n",
    "from sklearn.metrics import classification_report, confusion_matrix, ConfusionMatrixDisplay\n",
    "from sklearn.linear_model import LogisticRegression\n",
    "from sklearn.ensemble import RandomForestClassifier\n",
    "from sklearn.svm import SVC\n",
    "import matplotlib.pyplot as plt\n",
    "%matplotlib inline\n"
   ]
  },
  {
   "cell_type": "markdown",
   "id": "72a9b84f",
   "metadata": {},
   "source": [
    "## 2 — Datu ielāde"
   ]
  },
  {
   "cell_type": "code",
   "execution_count": null,
   "id": "cc7ff511",
   "metadata": {},
   "outputs": [],
   "source": [
    "\n",
    "df = pd.read_csv('mobile_phones_2000.csv')\n",
    "print(df.shape)\n",
    "display(df.head())\n"
   ]
  },
  {
   "cell_type": "markdown",
   "id": "23d5f3c0",
   "metadata": {},
   "source": [
    "### 2.1 — Pirmsapstrādes setups"
   ]
  },
  {
   "cell_type": "code",
   "execution_count": null,
   "id": "555a53b0",
   "metadata": {},
   "outputs": [],
   "source": [
    "\n",
    "# Mērķa mainīgais\n",
    "y = df['Brand']\n",
    "\n",
    "# Pilnībā atmetam 'Model', lai izvairītos no pārāk detalizēta un iespējams noplūstoša atribūta\n",
    "X = df.drop(columns=['Brand', 'Model'])\n",
    "\n",
    "# Nosakam kolonu tipus\n",
    "numeric_cols = X.select_dtypes(include=['int64', 'float64']).columns.tolist()\n",
    "categorical_cols = X.select_dtypes(include=['object']).columns.tolist()\n",
    "\n",
    "print('Skaitliskās kolonnas:', numeric_cols)\n",
    "print('Kategoriskās kolonnas:', categorical_cols)\n",
    "\n",
    "# Kolonām ar kameras setup ir daudz unikālu vērtību; saglabājam!\n",
    "\n",
    "# Preprocessing: skaitliskie -> StandardScaler, kategoriskie -> OneHotEncoder\n",
    "numeric_transformer = Pipeline(steps=[\n",
    "    ('scaler', StandardScaler())\n",
    "])\n",
    "\n",
    "categorical_transformer = Pipeline(steps=[\n",
    "    ('encoder', OneHotEncoder(handle_unknown='ignore', sparse=False))\n",
    "])\n",
    "\n",
    "preprocessor = ColumnTransformer(\n",
    "    transformers=[\n",
    "        ('num', numeric_transformer, numeric_cols),\n",
    "        ('cat', categorical_transformer, categorical_cols)\n",
    "    ]\n",
    ")\n"
   ]
  },
  {
   "cell_type": "markdown",
   "id": "34aec9bb",
   "metadata": {},
   "source": [
    "### 2.2 — Train/Test sadalījums"
   ]
  },
  {
   "cell_type": "code",
   "execution_count": null,
   "id": "5f50d164",
   "metadata": {},
   "outputs": [],
   "source": [
    "\n",
    "X_train, X_test, y_train, y_test = train_test_split(\n",
    "    X, y, test_size=0.25, random_state=42, stratify=y\n",
    ")\n",
    "print('Train:', X_train.shape, '  Test:', X_test.shape)\n"
   ]
  },
  {
   "cell_type": "markdown",
   "id": "7088598b",
   "metadata": {},
   "source": [
    "## 3 — Modeļi un rezultāti"
   ]
  },
  {
   "cell_type": "markdown",
   "id": "fea155d0",
   "metadata": {},
   "source": [
    "### 3.1 — Loģistiskā regresija (baseline)"
   ]
  },
  {
   "cell_type": "code",
   "execution_count": null,
   "id": "8ac0d5c2",
   "metadata": {},
   "outputs": [],
   "source": [
    "\n",
    "logreg_pipeline = Pipeline(steps=[\n",
    "    ('preprocess', preprocessor),\n",
    "    ('clf', LogisticRegression(max_iter=500, n_jobs=-1, multi_class='multinomial'))\n",
    "])\n",
    "\n",
    "logreg_pipeline.fit(X_train, y_train)\n",
    "y_pred_lr = logreg_pipeline.predict(X_test)\n",
    "print(classification_report(y_test, y_pred_lr))\n"
   ]
  },
  {
   "cell_type": "markdown",
   "id": "09716442",
   "metadata": {},
   "source": [
    "### 3.2 — Random Forest + GridSearchCV"
   ]
  },
  {
   "cell_type": "code",
   "execution_count": null,
   "id": "c9a691d0",
   "metadata": {},
   "outputs": [],
   "source": [
    "\n",
    "rf = RandomForestClassifier(random_state=42)\n",
    "param_grid = {\n",
    "    'clf__n_estimators': [200, 400],\n",
    "    'clf__max_depth': [None, 20]\n",
    "}\n",
    "\n",
    "rf_pipeline = Pipeline(steps=[\n",
    "    ('preprocess', preprocessor),\n",
    "    ('clf', rf)\n",
    "])\n",
    "\n",
    "grid = GridSearchCV(\n",
    "    rf_pipeline, param_grid=param_grid, cv=5, scoring='accuracy', n_jobs=-1\n",
    ")\n",
    "grid.fit(X_train, y_train)\n",
    "\n",
    "print('Labākie parametri:', grid.best_params_)\n",
    "y_pred_rf = grid.predict(X_test)\n",
    "print(classification_report(y_test, y_pred_rf))\n"
   ]
  },
  {
   "cell_type": "markdown",
   "id": "c2f05c18",
   "metadata": {},
   "source": [
    "### 3.3 — Support Vector Machine (rbf)"
   ]
  },
  {
   "cell_type": "code",
   "execution_count": null,
   "id": "c403882d",
   "metadata": {},
   "outputs": [],
   "source": [
    "\n",
    "svm_pipeline = Pipeline(steps=[\n",
    "    ('preprocess', preprocessor),\n",
    "    ('clf', SVC(kernel='rbf', C=10, gamma='scale'))\n",
    "])\n",
    "\n",
    "svm_pipeline.fit(X_train, y_train)\n",
    "y_pred_svm = svm_pipeline.predict(X_test)\n",
    "print(classification_report(y_test, y_pred_svm))\n"
   ]
  },
  {
   "cell_type": "markdown",
   "id": "562f86be",
   "metadata": {},
   "source": [
    "### 3.4 — Salīdzinošs kopsavilkums"
   ]
  },
  {
   "cell_type": "code",
   "execution_count": null,
   "id": "679b66e6",
   "metadata": {},
   "outputs": [],
   "source": [
    "\n",
    "from sklearn.metrics import accuracy_score\n",
    "\n",
    "results = pd.DataFrame({\n",
    "    'Model': ['Logistic Regression', 'Random Forest (best)', 'SVM (RBF)'],\n",
    "    'Accuracy': [\n",
    "        accuracy_score(y_test, y_pred_lr),\n",
    "        accuracy_score(y_test, y_pred_rf),\n",
    "        accuracy_score(y_test, y_pred_svm)\n",
    "    ]\n",
    "})\n",
    "display(results)\n"
   ]
  },
  {
   "cell_type": "markdown",
   "id": "605625aa",
   "metadata": {},
   "source": [
    "### 3.5 — Konfūzijas matrica labākajam modelim"
   ]
  },
  {
   "cell_type": "code",
   "execution_count": null,
   "id": "17ee13ce",
   "metadata": {},
   "outputs": [],
   "source": [
    "\n",
    "best_idx = results['Accuracy'].idxmax()\n",
    "best_model_name = results.loc[best_idx, 'Model']\n",
    "best_preds = [y_pred_lr, y_pred_rf, y_pred_svm][best_idx]\n",
    "\n",
    "cm = confusion_matrix(y_test, best_preds, labels=sorted(y.unique()))\n",
    "disp = ConfusionMatrixDisplay(confusion_matrix=cm, display_labels=sorted(y.unique()))\n",
    "fig, ax = plt.subplots(figsize=(6, 6))\n",
    "disp.plot(ax=ax, cmap='Blues', xticks_rotation=45)\n",
    "plt.title(f'Confusion matrix — {best_model_name}')\n",
    "plt.show()\n"
   ]
  },
  {
   "cell_type": "markdown",
   "id": "b9a6b11d",
   "metadata": {},
   "source": [
    "## 4 — Secinājumi"
   ]
  },
  {
   "cell_type": "markdown",
   "id": "b5428724",
   "metadata": {},
   "source": [
    "Notebook demonstrē datu priekšapstrādi ar **ColumnTransformer**, trīs klasifikācijas algoritmus un to salīdzinājumu. Rezultāti var atšķirties atkarībā no izvēlētajiem parametriem; iesakāms izpētīt arī tādus modeļus kā Gradient Boosting vai XGBoost, kā arī detalizētāk apskatīt kļūdainās klasifikācijas, lai uzlabotu veiktspēju."
   ]
  }
 ],
 "metadata": {
  "kernelspec": {
   "display_name": "Python 3",
   "language": "python",
   "name": "python3"
  },
  "language_info": {
   "name": "python"
  }
 },
 "nbformat": 4,
 "nbformat_minor": 5
}
